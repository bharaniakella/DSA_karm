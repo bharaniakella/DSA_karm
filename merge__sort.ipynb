{
  "nbformat": 4,
  "nbformat_minor": 0,
  "metadata": {
    "colab": {
      "provenance": []
    },
    "kernelspec": {
      "name": "python3",
      "display_name": "Python 3"
    },
    "language_info": {
      "name": "python"
    }
  },
  "cells": [
    {
      "cell_type": "code",
      "execution_count": 63,
      "metadata": {
        "id": "pyl1t0GpPpNV"
      },
      "outputs": [],
      "source": [
        "import numpy as np\n",
        "arr=np.array([4,2,6,1,3,7,5])"
      ]
    },
    {
      "cell_type": "code",
      "source": [
        "low=0\n",
        "high=len(arr)-1"
      ],
      "metadata": {
        "id": "ldzpI0jB-FfG"
      },
      "execution_count": 64,
      "outputs": []
    },
    {
      "cell_type": "code",
      "source": [
        "def ms(arr,low,high):\n",
        "  if(low>=high):\n",
        "    return\n",
        "  mid=(low+high)//2\n",
        "  ms(arr,low,mid)\n",
        "  ms(arr,mid+1,high)\n",
        "  merge(arr,low,high,mid)"
      ],
      "metadata": {
        "id": "sPjRNlpLPuIh"
      },
      "execution_count": 65,
      "outputs": []
    },
    {
      "cell_type": "code",
      "source": [
        "def merge(arr,low,high,mid):\n",
        "  left=low\n",
        "  right=mid+1\n",
        "  temp=[]\n",
        "  while(left<=mid and right<=high):\n",
        "    if(arr[left]<=arr[right]):\n",
        "      temp.append(arr[left])\n",
        "      left=left+1\n",
        "    else:\n",
        "      temp.append(arr[right])\n",
        "      right=right+1\n",
        "\n",
        "  while(left<=mid):\n",
        "    temp.append(arr[left])\n",
        "    left=left+1\n",
        "\n",
        "  while(right<=high):\n",
        "    temp.append(arr[right])\n",
        "    right=right+1\n",
        "\n",
        "  for i in range(low,high+1):\n",
        "    arr[i]=temp[i-low]"
      ],
      "metadata": {
        "id": "N187ACJrQSxR"
      },
      "execution_count": 66,
      "outputs": []
    },
    {
      "cell_type": "code",
      "source": [
        "ms(arr,low,high)"
      ],
      "metadata": {
        "id": "q5Q0AWuz9gqw"
      },
      "execution_count": 67,
      "outputs": []
    },
    {
      "cell_type": "code",
      "source": [
        "arr"
      ],
      "metadata": {
        "colab": {
          "base_uri": "https://localhost:8080/"
        },
        "id": "kMiZ0Gzt_orU",
        "outputId": "c5ea3745-14e2-4620-bf79-382050d4270b"
      },
      "execution_count": 68,
      "outputs": [
        {
          "output_type": "execute_result",
          "data": {
            "text/plain": [
              "array([1, 2, 3, 4, 5, 6, 7])"
            ]
          },
          "metadata": {},
          "execution_count": 68
        }
      ]
    },
    {
      "cell_type": "code",
      "source": [],
      "metadata": {
        "id": "bYthPA6NAmek"
      },
      "execution_count": 68,
      "outputs": []
    }
  ]
}