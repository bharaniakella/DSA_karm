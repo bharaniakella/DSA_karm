{
  "nbformat": 4,
  "nbformat_minor": 0,
  "metadata": {
    "colab": {
      "provenance": [],
      "authorship_tag": "ABX9TyNYWcKAnwalNG3ozff1OaaF",
      "include_colab_link": true
    },
    "kernelspec": {
      "name": "python3",
      "display_name": "Python 3"
    },
    "language_info": {
      "name": "python"
    }
  },
  "cells": [
    {
      "cell_type": "markdown",
      "metadata": {
        "id": "view-in-github",
        "colab_type": "text"
      },
      "source": [
        "<a href=\"https://colab.research.google.com/github/bharaniakella/DSA_karm/blob/main/Reverse_LinkedList.ipynb\" target=\"_parent\"><img src=\"https://colab.research.google.com/assets/colab-badge.svg\" alt=\"Open In Colab\"/></a>"
      ]
    },
    {
      "cell_type": "code",
      "execution_count": null,
      "metadata": {
        "id": "b1DlCBZUv5Mq"
      },
      "outputs": [],
      "source": [
        "class Solution:\n",
        "    def reverseList(self, head: Optional[ListNode]) -> Optional[ListNode]:\n",
        "        prev=None\n",
        "        curr=head\n",
        "        while(curr):\n",
        "            nextNode=curr.next\n",
        "            curr.next=prev\n",
        "            prev=curr\n",
        "            curr=nextNode\n",
        "\n",
        "        return prev\n",
        "\n",
        "\n",
        "\n",
        ""
      ]
    }
  ]
}